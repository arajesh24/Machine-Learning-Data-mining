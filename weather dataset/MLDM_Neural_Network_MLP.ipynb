{
 "cells": [
  {
   "cell_type": "code",
   "execution_count": 1,
   "id": "d110b286-cd13-42bf-8f71-5736e865d197",
   "metadata": {},
   "outputs": [],
   "source": [
    "##################################################################################\n",
    "# Reference : Lab 3 of MLDM Neural Networks: Multi-Layer Perceptron (MLP) and ROC\n",
    "##################################################################################"
   ]
  },
  {
   "cell_type": "markdown",
   "id": "f9071c90",
   "metadata": {},
   "source": [
    "### *Import necessary libraries for data manipulation, preprocessing, modeling, and evaluation*"
   ]
  },
  {
   "cell_type": "code",
   "execution_count": 2,
   "id": "713175cc-51e2-47e9-b523-e57497c5724a",
   "metadata": {},
   "outputs": [],
   "source": [
    "# Import required libraries\n",
    "import numpy as np\n",
    "import pandas as pd\n",
    "import matplotlib.pyplot as plt\n",
    "from scipy.stats import uniform, loguniform\n",
    "\n",
    "# Import sklearn components\n",
    "from sklearn.model_selection import (\n",
    "    train_test_split,\n",
    "    GridSearchCV,\n",
    "    RandomizedSearchCV\n",
    ")\n",
    "from sklearn.neural_network import MLPClassifier\n",
    "from sklearn.preprocessing import StandardScaler\n",
    "from sklearn.metrics import (\n",
    "    confusion_matrix, \n",
    "    accuracy_score, \n",
    "    precision_score, \n",
    "    recall_score, \n",
    "    f1_score,\n",
    "    roc_curve,\n",
    "    roc_auc_score,\n",
    "    accuracy_score,\n",
    "    classification_report\n",
    ")\n",
    "import seaborn as sns\n",
    "\n",
    "import warnings\n",
    "warnings.filterwarnings('ignore')"
   ]
  },
  {
   "cell_type": "markdown",
   "id": "a33f2625",
   "metadata": {},
   "source": [
    "### *Loading the diabetes dataset and display basic information about the dataset*"
   ]
  },
  {
   "cell_type": "code",
   "execution_count": 3,
   "id": "3ea36de6-2012-4c1e-acff-2e124eee6575",
   "metadata": {},
   "outputs": [
    {
     "name": "stdout",
     "output_type": "stream",
     "text": [
      "(218620, 13)\n"
     ]
    }
   ],
   "source": [
    "weather = pd.read_csv('weather_final.csv')\n",
    "# Dataset Shape\n",
    "print (weather.shape)"
   ]
  },
  {
   "cell_type": "code",
   "execution_count": 4,
   "id": "f5a127c5-0d39-4459-ba0c-ede54a5bf046",
   "metadata": {},
   "outputs": [
    {
     "data": {
      "text/html": [
       "<div>\n",
       "<style scoped>\n",
       "    .dataframe tbody tr th:only-of-type {\n",
       "        vertical-align: middle;\n",
       "    }\n",
       "\n",
       "    .dataframe tbody tr th {\n",
       "        vertical-align: top;\n",
       "    }\n",
       "\n",
       "    .dataframe thead th {\n",
       "        text-align: right;\n",
       "    }\n",
       "</style>\n",
       "<table border=\"1\" class=\"dataframe\">\n",
       "  <thead>\n",
       "    <tr style=\"text-align: right;\">\n",
       "      <th></th>\n",
       "      <th>RainToday</th>\n",
       "      <th>Humidity3pm</th>\n",
       "      <th>Sunshine</th>\n",
       "      <th>Cloud3pm</th>\n",
       "      <th>Cloud9am</th>\n",
       "      <th>Humidity9am</th>\n",
       "      <th>Rainfall</th>\n",
       "      <th>WindGustSpeed</th>\n",
       "      <th>Temp3pm</th>\n",
       "      <th>WindGustDir</th>\n",
       "      <th>WindDir9am</th>\n",
       "      <th>WindDir3pm</th>\n",
       "      <th>RainTomorrow</th>\n",
       "    </tr>\n",
       "  </thead>\n",
       "  <tbody>\n",
       "    <tr>\n",
       "      <th>0</th>\n",
       "      <td>0</td>\n",
       "      <td>22.0</td>\n",
       "      <td>8.4</td>\n",
       "      <td>7.0</td>\n",
       "      <td>8.0</td>\n",
       "      <td>71.0</td>\n",
       "      <td>0.6</td>\n",
       "      <td>44.0</td>\n",
       "      <td>21.8</td>\n",
       "      <td>13</td>\n",
       "      <td>13</td>\n",
       "      <td>14</td>\n",
       "      <td>0</td>\n",
       "    </tr>\n",
       "    <tr>\n",
       "      <th>1</th>\n",
       "      <td>0</td>\n",
       "      <td>25.0</td>\n",
       "      <td>8.4</td>\n",
       "      <td>7.0</td>\n",
       "      <td>8.0</td>\n",
       "      <td>44.0</td>\n",
       "      <td>0.0</td>\n",
       "      <td>44.0</td>\n",
       "      <td>24.3</td>\n",
       "      <td>14</td>\n",
       "      <td>6</td>\n",
       "      <td>15</td>\n",
       "      <td>0</td>\n",
       "    </tr>\n",
       "    <tr>\n",
       "      <th>2</th>\n",
       "      <td>0</td>\n",
       "      <td>30.0</td>\n",
       "      <td>8.4</td>\n",
       "      <td>2.0</td>\n",
       "      <td>8.0</td>\n",
       "      <td>38.0</td>\n",
       "      <td>0.0</td>\n",
       "      <td>46.0</td>\n",
       "      <td>23.2</td>\n",
       "      <td>15</td>\n",
       "      <td>13</td>\n",
       "      <td>15</td>\n",
       "      <td>0</td>\n",
       "    </tr>\n",
       "    <tr>\n",
       "      <th>3</th>\n",
       "      <td>0</td>\n",
       "      <td>16.0</td>\n",
       "      <td>8.4</td>\n",
       "      <td>7.0</td>\n",
       "      <td>8.0</td>\n",
       "      <td>45.0</td>\n",
       "      <td>0.0</td>\n",
       "      <td>24.0</td>\n",
       "      <td>26.5</td>\n",
       "      <td>4</td>\n",
       "      <td>9</td>\n",
       "      <td>0</td>\n",
       "      <td>0</td>\n",
       "    </tr>\n",
       "    <tr>\n",
       "      <th>4</th>\n",
       "      <td>0</td>\n",
       "      <td>33.0</td>\n",
       "      <td>8.4</td>\n",
       "      <td>8.0</td>\n",
       "      <td>7.0</td>\n",
       "      <td>82.0</td>\n",
       "      <td>1.0</td>\n",
       "      <td>41.0</td>\n",
       "      <td>29.7</td>\n",
       "      <td>13</td>\n",
       "      <td>1</td>\n",
       "      <td>7</td>\n",
       "      <td>0</td>\n",
       "    </tr>\n",
       "  </tbody>\n",
       "</table>\n",
       "</div>"
      ],
      "text/plain": [
       "   RainToday  Humidity3pm  Sunshine  Cloud3pm  Cloud9am  Humidity9am  \\\n",
       "0          0         22.0       8.4       7.0       8.0         71.0   \n",
       "1          0         25.0       8.4       7.0       8.0         44.0   \n",
       "2          0         30.0       8.4       2.0       8.0         38.0   \n",
       "3          0         16.0       8.4       7.0       8.0         45.0   \n",
       "4          0         33.0       8.4       8.0       7.0         82.0   \n",
       "\n",
       "   Rainfall  WindGustSpeed  Temp3pm  WindGustDir  WindDir9am  WindDir3pm  \\\n",
       "0       0.6           44.0     21.8           13          13          14   \n",
       "1       0.0           44.0     24.3           14           6          15   \n",
       "2       0.0           46.0     23.2           15          13          15   \n",
       "3       0.0           24.0     26.5            4           9           0   \n",
       "4       1.0           41.0     29.7           13           1           7   \n",
       "\n",
       "   RainTomorrow  \n",
       "0             0  \n",
       "1             0  \n",
       "2             0  \n",
       "3             0  \n",
       "4             0  "
      ]
     },
     "execution_count": 4,
     "metadata": {},
     "output_type": "execute_result"
    }
   ],
   "source": [
    "weather.head()"
   ]
  },
  {
   "cell_type": "markdown",
   "id": "048e2810",
   "metadata": {},
   "source": [
    "### *Preparing Features*"
   ]
  },
  {
   "cell_type": "code",
   "execution_count": 5,
   "id": "9d86c784-8995-403f-841c-327a53bb8ae1",
   "metadata": {},
   "outputs": [
    {
     "name": "stdout",
     "output_type": "stream",
     "text": [
      "        RainToday  Humidity3pm  Sunshine  Cloud3pm  Cloud9am  Humidity9am  \\\n",
      "0               0    22.000000  8.400000  7.000000  8.000000    71.000000   \n",
      "1               0    25.000000  8.400000  7.000000  8.000000    44.000000   \n",
      "2               0    30.000000  8.400000  2.000000  8.000000    38.000000   \n",
      "3               0    16.000000  8.400000  7.000000  8.000000    45.000000   \n",
      "4               0    33.000000  8.400000  8.000000  7.000000    82.000000   \n",
      "...           ...          ...       ...       ...       ...          ...   \n",
      "218615          1    90.514187  8.600000  8.000000  8.000000    86.914879   \n",
      "218616          1    87.464475  8.400000  5.000000  6.000000    92.830594   \n",
      "218617          0    68.806903  8.400000  5.806903  6.537936   100.000000   \n",
      "218618          0    58.000000  8.400000  5.000000  3.121131    57.000000   \n",
      "218619          1    69.389257  1.813254  7.000000  8.000000    91.097314   \n",
      "\n",
      "         Rainfall  WindGustSpeed    Temp3pm  WindGustDir  WindDir9am  \\\n",
      "0        0.600000      44.000000  21.800000           13          13   \n",
      "1        0.000000      44.000000  24.300000           14           6   \n",
      "2        0.000000      46.000000  23.200000           15          13   \n",
      "3        0.000000      24.000000  26.500000            4           9   \n",
      "4        1.000000      41.000000  29.700000           13           1   \n",
      "...           ...            ...        ...          ...         ...   \n",
      "218615  13.154602      51.943253  24.665952            9          10   \n",
      "218616  30.262301      64.267762  15.157370           10          10   \n",
      "218617   0.053794      25.462064  22.719993            3           9   \n",
      "218618   2.111170      39.000000  22.000000           16           7   \n",
      "218619   5.336240      41.000000  22.854029           13           7   \n",
      "\n",
      "        WindDir3pm  \n",
      "0               14  \n",
      "1               15  \n",
      "2               15  \n",
      "3                0  \n",
      "4                7  \n",
      "...            ...  \n",
      "218615           9  \n",
      "218616          10  \n",
      "218617           4  \n",
      "218618           9  \n",
      "218619           7  \n",
      "\n",
      "[218620 rows x 12 columns]\n",
      "0         0\n",
      "1         0\n",
      "2         0\n",
      "3         0\n",
      "4         0\n",
      "         ..\n",
      "218615    1\n",
      "218616    1\n",
      "218617    1\n",
      "218618    1\n",
      "218619    1\n",
      "Name: RainTomorrow, Length: 218620, dtype: int64\n"
     ]
    }
   ],
   "source": [
    "# Prepare features (X) and target (y)\n",
    "X = weather.drop(['RainTomorrow'], axis=1)\n",
    "y = weather['RainTomorrow']\n",
    "\n",
    "print(X)\n",
    "print(y)"
   ]
  },
  {
   "cell_type": "code",
   "execution_count": 6,
   "id": "ee8e40ac-4145-456b-a3df-0744f8e3327e",
   "metadata": {},
   "outputs": [
    {
     "name": "stdout",
     "output_type": "stream",
     "text": [
      "acc for training data: 0.790\n",
      "acc for test data: 0.789\n",
      "MLP Classification report:\n",
      "\n",
      "               precision    recall  f1-score   support\n",
      "\n",
      "           0       0.77      0.82      0.79     27280\n",
      "           1       0.81      0.76      0.78     27375\n",
      "\n",
      "    accuracy                           0.79     54655\n",
      "   macro avg       0.79      0.79      0.79     54655\n",
      "weighted avg       0.79      0.79      0.79     54655\n",
      "\n"
     ]
    }
   ],
   "source": [
    "# Training and testing data preperation.\n",
    "X_train, X_test, y_train, y_test = train_test_split(X, y, random_state=0)\n",
    "\n",
    "\n",
    "# Initializing the classifier\n",
    "classifier = MLPClassifier(\n",
    "    random_state=0, \n",
    "    activation='logistic',\n",
    "    hidden_layer_sizes=(5,),\n",
    "    solver='adam',\n",
    "    max_iter=100\n",
    ")\n",
    "\n",
    "# Train the model\n",
    "classifier.fit(X_train, y_train)\n",
    "\n",
    "# Make predictions\n",
    "classifier_predict = classifier.predict(X_test)\n",
    "\n",
    "# Accuracy factors\n",
    "print('acc for training data: {:.3f}'.format(classifier.score(X_train, y_train)))\n",
    "print('acc for test data: {:.3f}'.format(classifier.score(X_test, y_test)))\n",
    "print('MLP Classification report:\\n\\n', classification_report(y_test, classifier_predict))"
   ]
  },
  {
   "cell_type": "markdown",
   "id": "3a8cbba0-bf83-41cd-824e-e90742361811",
   "metadata": {},
   "source": [
    "## Tuning the parameters to increase efficiency"
   ]
  },
  {
   "cell_type": "markdown",
   "id": "361a42fe-df0b-4157-a378-eac76a52b665",
   "metadata": {},
   "source": [
    "##### Improve the accuracy of the MLP by tuning the parameters, e.g. increasing the 'hidden_layer_sizes' or 'max_iter'. Below we increase hidden_layer_sizes from 5 to 10."
   ]
  },
  {
   "cell_type": "code",
   "execution_count": 7,
   "id": "56019335-682c-494a-919d-45c4c7e973f9",
   "metadata": {},
   "outputs": [
    {
     "name": "stdout",
     "output_type": "stream",
     "text": [
      "acc for training data: 0.793\n",
      "acc for test data: 0.793\n",
      "MLP Classification report:\n",
      "\n",
      "               precision    recall  f1-score   support\n",
      "\n",
      "           0       0.79      0.80      0.79     27280\n",
      "           1       0.80      0.79      0.79     27375\n",
      "\n",
      "    accuracy                           0.79     54655\n",
      "   macro avg       0.79      0.79      0.79     54655\n",
      "weighted avg       0.79      0.79      0.79     54655\n",
      "\n"
     ]
    }
   ],
   "source": [
    "classifier = MLPClassifier(\n",
    "    random_state=0, \n",
    "    activation='logistic',\n",
    "    hidden_layer_sizes=(10,),\n",
    "    solver='adam',\n",
    "    max_iter=100\n",
    ")\n",
    "\n",
    "# Train the model\n",
    "classifier.fit(X_train, y_train)\n",
    "\n",
    "# Make predictions\n",
    "classifier_predict = classifier.predict(X_test)\n",
    "\n",
    "# Print accuracy metrics\n",
    "print('acc for training data: {:.3f}'.format(classifier.score(X_train, y_train)))\n",
    "print('acc for test data: {:.3f}'.format(classifier.score(X_test, y_test)))\n",
    "print('MLP Classification report:\\n\\n', classification_report(y_test, classifier_predict))"
   ]
  },
  {
   "cell_type": "markdown",
   "id": "09e96e76-f6d7-4f95-9fb5-c753f45cb72a",
   "metadata": {},
   "source": [
    "##### increasing max_iter from 100 to 1000"
   ]
  },
  {
   "cell_type": "code",
   "execution_count": 8,
   "id": "f11c55b6-1f2c-4643-9044-26d85306e53b",
   "metadata": {},
   "outputs": [
    {
     "name": "stdout",
     "output_type": "stream",
     "text": [
      "acc for training data: 0.793\n",
      "acc for test data: 0.793\n",
      "MLP Classification report:\n",
      "\n",
      "               precision    recall  f1-score   support\n",
      "\n",
      "           0       0.79      0.80      0.79     27280\n",
      "           1       0.80      0.79      0.79     27375\n",
      "\n",
      "    accuracy                           0.79     54655\n",
      "   macro avg       0.79      0.79      0.79     54655\n",
      "weighted avg       0.79      0.79      0.79     54655\n",
      "\n"
     ]
    }
   ],
   "source": [
    "classifier = MLPClassifier(\n",
    "    random_state=0, \n",
    "    activation='logistic',\n",
    "    hidden_layer_sizes=(10,),\n",
    "    solver='adam',\n",
    "    max_iter=1000\n",
    ")\n",
    "\n",
    "# Train the model\n",
    "classifier.fit(X_train, y_train)\n",
    "\n",
    "# Make predictions\n",
    "classifier_predict = classifier.predict(X_test)\n",
    "\n",
    "# Print accuracy metrics\n",
    "print('acc for training data: {:.3f}'.format(classifier.score(X_train, y_train)))\n",
    "print('acc for test data: {:.3f}'.format(classifier.score(X_test, y_test)))\n",
    "print('MLP Classification report:\\n\\n', classification_report(y_test, classifier_predict))"
   ]
  },
  {
   "cell_type": "markdown",
   "id": "7b109fe9-1f4f-4d93-94ae-f43c91b5fef4",
   "metadata": {},
   "source": [
    "From The above result's it's clear that there is firstly no overfitting in the training dataset. Based on the classification report there is not much noticable change observed between the above 2 tunning "
   ]
  },
  {
   "cell_type": "markdown",
   "id": "48a169ba-35e4-4d4e-a43d-adf6cd692c4c",
   "metadata": {},
   "source": [
    "### *Using ROC curve to improve accuracy*"
   ]
  },
  {
   "cell_type": "markdown",
   "id": "3c20af1b",
   "metadata": {},
   "source": [
    "#### - Standardizing the features to ensure consistent scaling across all variables."
   ]
  },
  {
   "cell_type": "code",
   "execution_count": 9,
   "id": "8e159223-aa33-42a1-8c25-bbe33c20be13",
   "metadata": {},
   "outputs": [],
   "source": [
    "scaler = StandardScaler()\n",
    "X_scaled = scaler.fit_transform(X)"
   ]
  },
  {
   "cell_type": "markdown",
   "id": "2ae8d784",
   "metadata": {},
   "source": [
    "#### *- Split the dataset into training and testing sets.*\n",
    "#### *- Maintain random_state for reproducibility.*"
   ]
  },
  {
   "cell_type": "code",
   "execution_count": 10,
   "id": "6b710b88",
   "metadata": {},
   "outputs": [],
   "source": [
    "from sklearn.model_selection import train_test_split\n",
    "\n",
    "X_train, X_test, y_train, y_test = train_test_split(X_scaled, y, random_state=0)"
   ]
  },
  {
   "cell_type": "markdown",
   "id": "55b5a63c",
   "metadata": {},
   "source": [
    "#### *- Create a baseline for comparison using random guessing (all probabilities are zero).*"
   ]
  },
  {
   "cell_type": "code",
   "execution_count": 11,
   "id": "b1748a93",
   "metadata": {},
   "outputs": [],
   "source": [
    "ns_probs = [0 for _ in range(len(y_test))]"
   ]
  },
  {
   "cell_type": "markdown",
   "id": "ff917998",
   "metadata": {},
   "source": [
    "### *Training MLP Models*\n",
    "#### *1. MLP 1: Logistic activation, one hidden layer with 5 neurons, 100 max iterations.*\n",
    "#### *2. MLP 2: Logistic activation, one hidden layer with 10 neurons, 100 max iterations.*\n"
   ]
  },
  {
   "cell_type": "code",
   "execution_count": 12,
   "id": "d26e5425",
   "metadata": {},
   "outputs": [
    {
     "data": {
      "text/html": [
       "<style>#sk-container-id-1 {color: black;background-color: white;}#sk-container-id-1 pre{padding: 0;}#sk-container-id-1 div.sk-toggleable {background-color: white;}#sk-container-id-1 label.sk-toggleable__label {cursor: pointer;display: block;width: 100%;margin-bottom: 0;padding: 0.3em;box-sizing: border-box;text-align: center;}#sk-container-id-1 label.sk-toggleable__label-arrow:before {content: \"▸\";float: left;margin-right: 0.25em;color: #696969;}#sk-container-id-1 label.sk-toggleable__label-arrow:hover:before {color: black;}#sk-container-id-1 div.sk-estimator:hover label.sk-toggleable__label-arrow:before {color: black;}#sk-container-id-1 div.sk-toggleable__content {max-height: 0;max-width: 0;overflow: hidden;text-align: left;background-color: #f0f8ff;}#sk-container-id-1 div.sk-toggleable__content pre {margin: 0.2em;color: black;border-radius: 0.25em;background-color: #f0f8ff;}#sk-container-id-1 input.sk-toggleable__control:checked~div.sk-toggleable__content {max-height: 200px;max-width: 100%;overflow: auto;}#sk-container-id-1 input.sk-toggleable__control:checked~label.sk-toggleable__label-arrow:before {content: \"▾\";}#sk-container-id-1 div.sk-estimator input.sk-toggleable__control:checked~label.sk-toggleable__label {background-color: #d4ebff;}#sk-container-id-1 div.sk-label input.sk-toggleable__control:checked~label.sk-toggleable__label {background-color: #d4ebff;}#sk-container-id-1 input.sk-hidden--visually {border: 0;clip: rect(1px 1px 1px 1px);clip: rect(1px, 1px, 1px, 1px);height: 1px;margin: -1px;overflow: hidden;padding: 0;position: absolute;width: 1px;}#sk-container-id-1 div.sk-estimator {font-family: monospace;background-color: #f0f8ff;border: 1px dotted black;border-radius: 0.25em;box-sizing: border-box;margin-bottom: 0.5em;}#sk-container-id-1 div.sk-estimator:hover {background-color: #d4ebff;}#sk-container-id-1 div.sk-parallel-item::after {content: \"\";width: 100%;border-bottom: 1px solid gray;flex-grow: 1;}#sk-container-id-1 div.sk-label:hover label.sk-toggleable__label {background-color: #d4ebff;}#sk-container-id-1 div.sk-serial::before {content: \"\";position: absolute;border-left: 1px solid gray;box-sizing: border-box;top: 0;bottom: 0;left: 50%;z-index: 0;}#sk-container-id-1 div.sk-serial {display: flex;flex-direction: column;align-items: center;background-color: white;padding-right: 0.2em;padding-left: 0.2em;position: relative;}#sk-container-id-1 div.sk-item {position: relative;z-index: 1;}#sk-container-id-1 div.sk-parallel {display: flex;align-items: stretch;justify-content: center;background-color: white;position: relative;}#sk-container-id-1 div.sk-item::before, #sk-container-id-1 div.sk-parallel-item::before {content: \"\";position: absolute;border-left: 1px solid gray;box-sizing: border-box;top: 0;bottom: 0;left: 50%;z-index: -1;}#sk-container-id-1 div.sk-parallel-item {display: flex;flex-direction: column;z-index: 1;position: relative;background-color: white;}#sk-container-id-1 div.sk-parallel-item:first-child::after {align-self: flex-end;width: 50%;}#sk-container-id-1 div.sk-parallel-item:last-child::after {align-self: flex-start;width: 50%;}#sk-container-id-1 div.sk-parallel-item:only-child::after {width: 0;}#sk-container-id-1 div.sk-dashed-wrapped {border: 1px dashed gray;margin: 0 0.4em 0.5em 0.4em;box-sizing: border-box;padding-bottom: 0.4em;background-color: white;}#sk-container-id-1 div.sk-label label {font-family: monospace;font-weight: bold;display: inline-block;line-height: 1.2em;}#sk-container-id-1 div.sk-label-container {text-align: center;}#sk-container-id-1 div.sk-container {/* jupyter's `normalize.less` sets `[hidden] { display: none; }` but bootstrap.min.css set `[hidden] { display: none !important; }` so we also need the `!important` here to be able to override the default hidden behavior on the sphinx rendered scikit-learn.org. See: https://github.com/scikit-learn/scikit-learn/issues/21755 */display: inline-block !important;position: relative;}#sk-container-id-1 div.sk-text-repr-fallback {display: none;}</style><div id=\"sk-container-id-1\" class=\"sk-top-container\"><div class=\"sk-text-repr-fallback\"><pre>MLPClassifier(activation=&#x27;logistic&#x27;, hidden_layer_sizes=(10,), max_iter=100,\n",
       "              random_state=0)</pre><b>In a Jupyter environment, please rerun this cell to show the HTML representation or trust the notebook. <br />On GitHub, the HTML representation is unable to render, please try loading this page with nbviewer.org.</b></div><div class=\"sk-container\" hidden><div class=\"sk-item\"><div class=\"sk-estimator sk-toggleable\"><input class=\"sk-toggleable__control sk-hidden--visually\" id=\"sk-estimator-id-1\" type=\"checkbox\" checked><label for=\"sk-estimator-id-1\" class=\"sk-toggleable__label sk-toggleable__label-arrow\">MLPClassifier</label><div class=\"sk-toggleable__content\"><pre>MLPClassifier(activation=&#x27;logistic&#x27;, hidden_layer_sizes=(10,), max_iter=100,\n",
       "              random_state=0)</pre></div></div></div></div></div>"
      ],
      "text/plain": [
       "MLPClassifier(activation='logistic', hidden_layer_sizes=(10,), max_iter=100,\n",
       "              random_state=0)"
      ]
     },
     "execution_count": 12,
     "metadata": {},
     "output_type": "execute_result"
    }
   ],
   "source": [
    "# Train MLP 1\n",
    "classifier1 = MLPClassifier(\n",
    "    random_state=0, \n",
    "    activation='logistic', \n",
    "    hidden_layer_sizes=(5,), \n",
    "    max_iter=100\n",
    ")\n",
    "classifier1.fit(X_train, y_train)\n",
    "\n",
    "# Train MLP 2\n",
    "classifier2 = MLPClassifier(\n",
    "    random_state=0, \n",
    "    activation='logistic', \n",
    "    hidden_layer_sizes=(10,), \n",
    "    max_iter=100\n",
    ")\n",
    "classifier2.fit(X_train, y_train)"
   ]
  },
  {
   "cell_type": "markdown",
   "id": "6480ff67",
   "metadata": {},
   "source": [
    "#### *- Predicting probabilities for both MLP models.*\n",
    "#### *- Keeping probabilities for the positive outcome only.*"
   ]
  },
  {
   "cell_type": "code",
   "execution_count": 13,
   "id": "88a3ce4e",
   "metadata": {},
   "outputs": [
    {
     "name": "stdout",
     "output_type": "stream",
     "text": [
      "Baseline (random guess): ROC AUC=0.500\n",
      "MLP 1 (original): ROC AUC=0.879\n",
      "MLP 2 (improved): ROC AUC=0.886\n"
     ]
    }
   ],
   "source": [
    "# Predict probabilities\n",
    "lr_probs1 = classifier1.predict_proba(X_test)[:, 1]\n",
    "lr_probs2 = classifier2.predict_proba(X_test)[:, 1]\n",
    "\n",
    "# Calculate AUC scores\n",
    "ns_auc = roc_auc_score(y_test, ns_probs)\n",
    "lr_auc1 = roc_auc_score(y_test, lr_probs1)\n",
    "lr_auc2 = roc_auc_score(y_test, lr_probs2)\n",
    "\n",
    "# Print AUC scores\n",
    "print('Baseline (random guess): ROC AUC=%.3f' % ns_auc)\n",
    "print('MLP 1 (original): ROC AUC=%.3f' % lr_auc1)\n",
    "print('MLP 2 (improved): ROC AUC=%.3f' % lr_auc2)"
   ]
  },
  {
   "cell_type": "markdown",
   "id": "602cf5da",
   "metadata": {},
   "source": [
    "#### *- Ploting ROC curves for Baseline, MLP 1, and MLP 2.*\n",
    "#### *- Adding diagonal reference line and adjust the layout for clarity.*"
   ]
  },
  {
   "cell_type": "code",
   "execution_count": 14,
   "id": "8a5e702e",
   "metadata": {},
   "outputs": [
    {
     "data": {
      "image/png": "[encoded data removed]",
      "text/plain": [
       "<Figure size 1000x800 with 1 Axes>"
      ]
     },
     "metadata": {},
     "output_type": "display_data"
    }
   ],
   "source": [
    "# Calculate ROC curves\n",
    "ns_fpr, ns_tpr, _ = roc_curve(y_test, ns_probs)\n",
    "lr_fpr1, lr_tpr1, _ = roc_curve(y_test, lr_probs1)\n",
    "lr_fpr2, lr_tpr2, _ = roc_curve(y_test, lr_probs2)\n",
    "\n",
    "# Plot ROC curves\n",
    "plt.figure(figsize=(10, 8))\n",
    "plt.plot(ns_fpr, ns_tpr, linestyle='--', label='Baseline (random guess)', color='gray')\n",
    "plt.plot(lr_fpr1, lr_tpr1, marker='.', label=f'MLP 1 (Original, AUC={lr_auc1:.3f})', color='blue')\n",
    "plt.plot(lr_fpr2, lr_tpr2, marker='.', label=f'MLP 2 (Improved, AUC={lr_auc2:.3f})', color='red')\n",
    "\n",
    "# Customize plot\n",
    "plt.xlabel('False Positive Rate')\n",
    "plt.ylabel('True Positive Rate')\n",
    "plt.title('ROC Curve Comparison with Improved MLP 2')\n",
    "plt.legend(loc='lower right')\n",
    "plt.grid(True, alpha=0.3)\n",
    "plt.plot([0, 1], [0, 1], color='gray', linestyle='--', alpha=0.5)\n",
    "plt.axis('square')\n",
    "plt.show()"
   ]
  },
  {
   "cell_type": "markdown",
   "id": "ce5b207a",
   "metadata": {},
   "source": [
    "#### - Printing accuracy and classification reports for both MLP models."
   ]
  },
  {
   "cell_type": "code",
   "execution_count": 15,
   "id": "73214f4d",
   "metadata": {},
   "outputs": [
    {
     "name": "stdout",
     "output_type": "stream",
     "text": [
      "\n",
      "Performance metrics for MLP 1:\n",
      "Accuracy: 0.792\n",
      "\n",
      "Classification Report:\n",
      "              precision    recall  f1-score   support\n",
      "\n",
      "           0       0.79      0.80      0.79     27280\n",
      "           1       0.79      0.79      0.79     27375\n",
      "\n",
      "    accuracy                           0.79     54655\n",
      "   macro avg       0.79      0.79      0.79     54655\n",
      "weighted avg       0.79      0.79      0.79     54655\n",
      "\n",
      "\n",
      "Performance metrics for MLP 2:\n",
      "Accuracy: 0.800\n",
      "\n",
      "Classification Report:\n",
      "              precision    recall  f1-score   support\n",
      "\n",
      "           0       0.79      0.81      0.80     27280\n",
      "           1       0.81      0.79      0.80     27375\n",
      "\n",
      "    accuracy                           0.80     54655\n",
      "   macro avg       0.80      0.80      0.80     54655\n",
      "weighted avg       0.80      0.80      0.80     54655\n",
      "\n"
     ]
    }
   ],
   "source": [
    "# Print detailed performance metrics\n",
    "for name, probs in [('MLP 1', lr_probs1), ('MLP 2', lr_probs2)]:\n",
    "    predictions = (probs > 0.5).astype(int)\n",
    "    acc = accuracy_score(y_test, predictions)\n",
    "    print(f'\\nPerformance metrics for {name}:')\n",
    "    print(f'Accuracy: {acc:.3f}')\n",
    "    print('\\nClassification Report:')\n",
    "    print(classification_report(y_test, predictions))"
   ]
  },
  {
   "cell_type": "markdown",
   "id": "805d4b5b",
   "metadata": {},
   "source": [
    "#### *- Predicting probabilities for both MLP models.*\n",
    "#### *- Keeping probabilities for the positive outcome only.*"
   ]
  },
  {
   "cell_type": "code",
   "execution_count": 16,
   "id": "e61fd782-44b3-47aa-a02b-03bd1688146f",
   "metadata": {},
   "outputs": [],
   "source": [
    "X_train, X_test, y_train, y_test = train_test_split(X_scaled, y, random_state=0)"
   ]
  },
  {
   "cell_type": "markdown",
   "id": "871091e2",
   "metadata": {},
   "source": [
    "### *Defining the Parameter Space*\n",
    "#### *- Specify the hyperparameter ranges for the Random Search.*\n",
    "#### *- Include options for hidden layer sizes, activation functions, alpha values, learning rates, and other parameters.*"
   ]
  },
  {
   "cell_type": "code",
   "execution_count": 17,
   "id": "d89acd50",
   "metadata": {},
   "outputs": [],
   "source": [
    "from scipy.stats import loguniform\n",
    "\n",
    "param_space = {\n",
    "    'hidden_layer_sizes': [(n,) for n in [5, 10, 20, 30, 50, 100]],\n",
    "    'activation': ['logistic', 'relu', 'tanh'],\n",
    "    'alpha': loguniform(1e-5, 1),\n",
    "    'learning_rate_init': loguniform(1e-4, 1e-2),\n",
    "    'max_iter': [500, 1000],\n",
    "    'batch_size': [32, 64, 128],\n",
    "    'solver': ['adam']\n",
    "}"
   ]
  },
  {
   "cell_type": "markdown",
   "id": "46602dc1",
   "metadata": {},
   "source": [
    "#### *- Defining the base MLPClassifier with a fixed random state for reproducibility.*"
   ]
  },
  {
   "cell_type": "code",
   "execution_count": 18,
   "id": "1a0eb03c",
   "metadata": {},
   "outputs": [],
   "source": [
    "base_classifier = MLPClassifier(random_state=0)"
   ]
  },
  {
   "cell_type": "markdown",
   "id": "2d89b521",
   "metadata": {},
   "source": [
    "### *Perform Random Search*\n",
    "#### *- Using RandomizedSearchCV to search for the best hyperparameters.*\n",
    "#### *- Evaluating using ROC-AUC as the scoring metric and 3-fold cross-validation.*\n",
    "#### *- Limiting the number of iterations to 15 to reduce computation time.*\n"
   ]
  },
  {
   "cell_type": "code",
   "execution_count": 19,
   "id": "d20f5cc5",
   "metadata": {},
   "outputs": [
    {
     "name": "stdout",
     "output_type": "stream",
     "text": [
      "Performing Random Search...\n",
      "Fitting 3 folds for each of 15 candidates, totalling 45 fits\n"
     ]
    },
    {
     "data": {
      "text/html": [
       "<style>#sk-container-id-2 {color: black;background-color: white;}#sk-container-id-2 pre{padding: 0;}#sk-container-id-2 div.sk-toggleable {background-color: white;}#sk-container-id-2 label.sk-toggleable__label {cursor: pointer;display: block;width: 100%;margin-bottom: 0;padding: 0.3em;box-sizing: border-box;text-align: center;}#sk-container-id-2 label.sk-toggleable__label-arrow:before {content: \"▸\";float: left;margin-right: 0.25em;color: #696969;}#sk-container-id-2 label.sk-toggleable__label-arrow:hover:before {color: black;}#sk-container-id-2 div.sk-estimator:hover label.sk-toggleable__label-arrow:before {color: black;}#sk-container-id-2 div.sk-toggleable__content {max-height: 0;max-width: 0;overflow: hidden;text-align: left;background-color: #f0f8ff;}#sk-container-id-2 div.sk-toggleable__content pre {margin: 0.2em;color: black;border-radius: 0.25em;background-color: #f0f8ff;}#sk-container-id-2 input.sk-toggleable__control:checked~div.sk-toggleable__content {max-height: 200px;max-width: 100%;overflow: auto;}#sk-container-id-2 input.sk-toggleable__control:checked~label.sk-toggleable__label-arrow:before {content: \"▾\";}#sk-container-id-2 div.sk-estimator input.sk-toggleable__control:checked~label.sk-toggleable__label {background-color: #d4ebff;}#sk-container-id-2 div.sk-label input.sk-toggleable__control:checked~label.sk-toggleable__label {background-color: #d4ebff;}#sk-container-id-2 input.sk-hidden--visually {border: 0;clip: rect(1px 1px 1px 1px);clip: rect(1px, 1px, 1px, 1px);height: 1px;margin: -1px;overflow: hidden;padding: 0;position: absolute;width: 1px;}#sk-container-id-2 div.sk-estimator {font-family: monospace;background-color: #f0f8ff;border: 1px dotted black;border-radius: 0.25em;box-sizing: border-box;margin-bottom: 0.5em;}#sk-container-id-2 div.sk-estimator:hover {background-color: #d4ebff;}#sk-container-id-2 div.sk-parallel-item::after {content: \"\";width: 100%;border-bottom: 1px solid gray;flex-grow: 1;}#sk-container-id-2 div.sk-label:hover label.sk-toggleable__label {background-color: #d4ebff;}#sk-container-id-2 div.sk-serial::before {content: \"\";position: absolute;border-left: 1px solid gray;box-sizing: border-box;top: 0;bottom: 0;left: 50%;z-index: 0;}#sk-container-id-2 div.sk-serial {display: flex;flex-direction: column;align-items: center;background-color: white;padding-right: 0.2em;padding-left: 0.2em;position: relative;}#sk-container-id-2 div.sk-item {position: relative;z-index: 1;}#sk-container-id-2 div.sk-parallel {display: flex;align-items: stretch;justify-content: center;background-color: white;position: relative;}#sk-container-id-2 div.sk-item::before, #sk-container-id-2 div.sk-parallel-item::before {content: \"\";position: absolute;border-left: 1px solid gray;box-sizing: border-box;top: 0;bottom: 0;left: 50%;z-index: -1;}#sk-container-id-2 div.sk-parallel-item {display: flex;flex-direction: column;z-index: 1;position: relative;background-color: white;}#sk-container-id-2 div.sk-parallel-item:first-child::after {align-self: flex-end;width: 50%;}#sk-container-id-2 div.sk-parallel-item:last-child::after {align-self: flex-start;width: 50%;}#sk-container-id-2 div.sk-parallel-item:only-child::after {width: 0;}#sk-container-id-2 div.sk-dashed-wrapped {border: 1px dashed gray;margin: 0 0.4em 0.5em 0.4em;box-sizing: border-box;padding-bottom: 0.4em;background-color: white;}#sk-container-id-2 div.sk-label label {font-family: monospace;font-weight: bold;display: inline-block;line-height: 1.2em;}#sk-container-id-2 div.sk-label-container {text-align: center;}#sk-container-id-2 div.sk-container {/* jupyter's `normalize.less` sets `[hidden] { display: none; }` but bootstrap.min.css set `[hidden] { display: none !important; }` so we also need the `!important` here to be able to override the default hidden behavior on the sphinx rendered scikit-learn.org. See: https://github.com/scikit-learn/scikit-learn/issues/21755 */display: inline-block !important;position: relative;}#sk-container-id-2 div.sk-text-repr-fallback {display: none;}</style><div id=\"sk-container-id-2\" class=\"sk-top-container\"><div class=\"sk-text-repr-fallback\"><pre>RandomizedSearchCV(cv=3, estimator=MLPClassifier(random_state=0), n_iter=15,\n",
       "                   n_jobs=-1,\n",
       "                   param_distributions={&#x27;activation&#x27;: [&#x27;logistic&#x27;, &#x27;relu&#x27;,\n",
       "                                                       &#x27;tanh&#x27;],\n",
       "                                        &#x27;alpha&#x27;: &lt;scipy.stats._distn_infrastructure.rv_continuous_frozen object at 0x16b157290&gt;,\n",
       "                                        &#x27;batch_size&#x27;: [32, 64, 128],\n",
       "                                        &#x27;hidden_layer_sizes&#x27;: [(5,), (10,),\n",
       "                                                               (20,), (30,),\n",
       "                                                               (50,), (100,)],\n",
       "                                        &#x27;learning_rate_init&#x27;: &lt;scipy.stats._distn_infrastructure.rv_continuous_frozen object at 0x16b498150&gt;,\n",
       "                                        &#x27;max_iter&#x27;: [500, 1000],\n",
       "                                        &#x27;solver&#x27;: [&#x27;adam&#x27;]},\n",
       "                   random_state=0, scoring=&#x27;roc_auc&#x27;, verbose=1)</pre><b>In a Jupyter environment, please rerun this cell to show the HTML representation or trust the notebook. <br />On GitHub, the HTML representation is unable to render, please try loading this page with nbviewer.org.</b></div><div class=\"sk-container\" hidden><div class=\"sk-item sk-dashed-wrapped\"><div class=\"sk-label-container\"><div class=\"sk-label sk-toggleable\"><input class=\"sk-toggleable__control sk-hidden--visually\" id=\"sk-estimator-id-2\" type=\"checkbox\" ><label for=\"sk-estimator-id-2\" class=\"sk-toggleable__label sk-toggleable__label-arrow\">RandomizedSearchCV</label><div class=\"sk-toggleable__content\"><pre>RandomizedSearchCV(cv=3, estimator=MLPClassifier(random_state=0), n_iter=15,\n",
       "                   n_jobs=-1,\n",
       "                   param_distributions={&#x27;activation&#x27;: [&#x27;logistic&#x27;, &#x27;relu&#x27;,\n",
       "                                                       &#x27;tanh&#x27;],\n",
       "                                        &#x27;alpha&#x27;: &lt;scipy.stats._distn_infrastructure.rv_continuous_frozen object at 0x16b157290&gt;,\n",
       "                                        &#x27;batch_size&#x27;: [32, 64, 128],\n",
       "                                        &#x27;hidden_layer_sizes&#x27;: [(5,), (10,),\n",
       "                                                               (20,), (30,),\n",
       "                                                               (50,), (100,)],\n",
       "                                        &#x27;learning_rate_init&#x27;: &lt;scipy.stats._distn_infrastructure.rv_continuous_frozen object at 0x16b498150&gt;,\n",
       "                                        &#x27;max_iter&#x27;: [500, 1000],\n",
       "                                        &#x27;solver&#x27;: [&#x27;adam&#x27;]},\n",
       "                   random_state=0, scoring=&#x27;roc_auc&#x27;, verbose=1)</pre></div></div></div><div class=\"sk-parallel\"><div class=\"sk-parallel-item\"><div class=\"sk-item\"><div class=\"sk-label-container\"><div class=\"sk-label sk-toggleable\"><input class=\"sk-toggleable__control sk-hidden--visually\" id=\"sk-estimator-id-3\" type=\"checkbox\" ><label for=\"sk-estimator-id-3\" class=\"sk-toggleable__label sk-toggleable__label-arrow\">estimator: MLPClassifier</label><div class=\"sk-toggleable__content\"><pre>MLPClassifier(random_state=0)</pre></div></div></div><div class=\"sk-serial\"><div class=\"sk-item\"><div class=\"sk-estimator sk-toggleable\"><input class=\"sk-toggleable__control sk-hidden--visually\" id=\"sk-estimator-id-4\" type=\"checkbox\" ><label for=\"sk-estimator-id-4\" class=\"sk-toggleable__label sk-toggleable__label-arrow\">MLPClassifier</label><div class=\"sk-toggleable__content\"><pre>MLPClassifier(random_state=0)</pre></div></div></div></div></div></div></div></div></div></div>"
      ],
      "text/plain": [
       "RandomizedSearchCV(cv=3, estimator=MLPClassifier(random_state=0), n_iter=15,\n",
       "                   n_jobs=-1,\n",
       "                   param_distributions={'activation': ['logistic', 'relu',\n",
       "                                                       'tanh'],\n",
       "                                        'alpha': <scipy.stats._distn_infrastructure.rv_continuous_frozen object at 0x16b157290>,\n",
       "                                        'batch_size': [32, 64, 128],\n",
       "                                        'hidden_layer_sizes': [(5,), (10,),\n",
       "                                                               (20,), (30,),\n",
       "                                                               (50,), (100,)],\n",
       "                                        'learning_rate_init': <scipy.stats._distn_infrastructure.rv_continuous_frozen object at 0x16b498150>,\n",
       "                                        'max_iter': [500, 1000],\n",
       "                                        'solver': ['adam']},\n",
       "                   random_state=0, scoring='roc_auc', verbose=1)"
      ]
     },
     "execution_count": 19,
     "metadata": {},
     "output_type": "execute_result"
    }
   ],
   "source": [
    "print(\"Performing Random Search...\")\n",
    "random_search = RandomizedSearchCV(\n",
    "    estimator=base_classifier,\n",
    "    param_distributions=param_space,\n",
    "    n_iter=15,\n",
    "    scoring='roc_auc',\n",
    "    cv=3,\n",
    "    n_jobs=-1,\n",
    "    verbose=1,\n",
    "    random_state=0\n",
    ")\n",
    "random_search.fit(X_train, y_train)"
   ]
  },
  {
   "cell_type": "markdown",
   "id": "41b64526",
   "metadata": {},
   "source": [
    "#### - Printing the best parameters and the best cross-validation score from Random Search."
   ]
  },
  {
   "cell_type": "code",
   "execution_count": 20,
   "id": "5c8adcbc",
   "metadata": {},
   "outputs": [
    {
     "name": "stdout",
     "output_type": "stream",
     "text": [
      "\n",
      "Best Parameters Found:\n",
      "{'activation': 'tanh', 'alpha': 0.0015595796772974067, 'batch_size': 32, 'hidden_layer_sizes': (50,), 'learning_rate_init': 0.0020210666418758265, 'max_iter': 500, 'solver': 'adam'}\n",
      "Best Cross-Validation Score: 0.897\n"
     ]
    }
   ],
   "source": [
    "print(\"\\nBest Parameters Found:\")\n",
    "print(random_search.best_params_)\n",
    "print(f\"Best Cross-Validation Score: {random_search.best_score_:.3f}\")"
   ]
  },
  {
   "cell_type": "markdown",
   "id": "e06b5de8-7ccc-48b3-8782-24fedfbf4230",
   "metadata": {},
   "source": [
    " ### Best Parameters Found through Hyperparameter tuning (Check extra code at the end):<P>\n",
    "{'activation': 'logistic', 'alpha': 0.0003776954513878896, 'batch_size': 64, 'hidden_layer_sizes': (50,), 'learning_rate_init': 0.0013816356822574799, 'max_iter': 1000, 'solver': 'adam'}\n",
    "Best Cross-Validation Score: 0.868 </P>"
   ]
  },
  {
   "cell_type": "markdown",
   "id": "9621a9a1",
   "metadata": {},
   "source": [
    "### *Spliting the Data with Stratification*\n",
    "#### *- Split the dataset into training and testing sets, maintaining the class distribution.*\n",
    "#### *- Use a test size of 20% and set a random state for reproducibility.*\n"
   ]
  },
  {
   "cell_type": "code",
   "execution_count": 21,
   "id": "8cc41574",
   "metadata": {},
   "outputs": [],
   "source": [
    "# Split the data with stratification\n",
    "X_train, X_test, y_train, y_test = train_test_split(\n",
    "    X_scaled, y, \n",
    "    test_size=0.2, \n",
    "    random_state=42, \n",
    "    stratify=y\n",
    ")"
   ]
  },
  {
   "cell_type": "markdown",
   "id": "837d18d0",
   "metadata": {},
   "source": [
    "### Creating MLP Classifiers\n",
    "#### *- **MLP 1**: Logistic activation, hidden layer with 5 neurons, 100 iterations.*\n",
    "#### *- **MLP 2**: Logistic activation, hidden layer with 10 neurons, 100 iterations.*\n",
    "#### *- **MLP 3**: Optimized parameters obtained from previous tuning.*"
   ]
  },
  {
   "cell_type": "code",
   "execution_count": 22,
   "id": "4c680db0",
   "metadata": {},
   "outputs": [],
   "source": [
    "# Create MLP classifiers\n",
    "# MLP 1\n",
    "classifier1 = MLPClassifier(\n",
    "    activation='logistic', \n",
    "    hidden_layer_sizes=(5,), \n",
    "    max_iter=100, \n",
    "    random_state=42\n",
    ")\n",
    "\n",
    "# MLP 2\n",
    "classifier2 = MLPClassifier(\n",
    "    activation='logistic', \n",
    "    hidden_layer_sizes=(10,), \n",
    "    max_iter=100, \n",
    "    random_state=42\n",
    ")\n",
    "\n",
    "# MLP 3 with optimized parameters\n",
    "classifier3 = MLPClassifier(\n",
    "    activation='tanh',\n",
    "    alpha=0.0015595796772974067,\n",
    "    batch_size=32,\n",
    "    hidden_layer_sizes=(50,),\n",
    "    learning_rate_init=0.0020210666418758265,\n",
    "    max_iter=500,\n",
    "    solver='adam',\n",
    "    random_state=0\n",
    ")"
   ]
  },
  {
   "cell_type": "markdown",
   "id": "a65651be",
   "metadata": {},
   "source": [
    "#### *- Fitting each classifier on the training data.*"
   ]
  },
  {
   "cell_type": "code",
   "execution_count": 23,
   "id": "890a77c5",
   "metadata": {},
   "outputs": [
    {
     "name": "stdout",
     "output_type": "stream",
     "text": [
      "Training MLP 1...\n",
      "Training MLP 2...\n",
      "Training MLP 3...\n"
     ]
    },
    {
     "data": {
      "text/html": [
       "<style>#sk-container-id-3 {color: black;background-color: white;}#sk-container-id-3 pre{padding: 0;}#sk-container-id-3 div.sk-toggleable {background-color: white;}#sk-container-id-3 label.sk-toggleable__label {cursor: pointer;display: block;width: 100%;margin-bottom: 0;padding: 0.3em;box-sizing: border-box;text-align: center;}#sk-container-id-3 label.sk-toggleable__label-arrow:before {content: \"▸\";float: left;margin-right: 0.25em;color: #696969;}#sk-container-id-3 label.sk-toggleable__label-arrow:hover:before {color: black;}#sk-container-id-3 div.sk-estimator:hover label.sk-toggleable__label-arrow:before {color: black;}#sk-container-id-3 div.sk-toggleable__content {max-height: 0;max-width: 0;overflow: hidden;text-align: left;background-color: #f0f8ff;}#sk-container-id-3 div.sk-toggleable__content pre {margin: 0.2em;color: black;border-radius: 0.25em;background-color: #f0f8ff;}#sk-container-id-3 input.sk-toggleable__control:checked~div.sk-toggleable__content {max-height: 200px;max-width: 100%;overflow: auto;}#sk-container-id-3 input.sk-toggleable__control:checked~label.sk-toggleable__label-arrow:before {content: \"▾\";}#sk-container-id-3 div.sk-estimator input.sk-toggleable__control:checked~label.sk-toggleable__label {background-color: #d4ebff;}#sk-container-id-3 div.sk-label input.sk-toggleable__control:checked~label.sk-toggleable__label {background-color: #d4ebff;}#sk-container-id-3 input.sk-hidden--visually {border: 0;clip: rect(1px 1px 1px 1px);clip: rect(1px, 1px, 1px, 1px);height: 1px;margin: -1px;overflow: hidden;padding: 0;position: absolute;width: 1px;}#sk-container-id-3 div.sk-estimator {font-family: monospace;background-color: #f0f8ff;border: 1px dotted black;border-radius: 0.25em;box-sizing: border-box;margin-bottom: 0.5em;}#sk-container-id-3 div.sk-estimator:hover {background-color: #d4ebff;}#sk-container-id-3 div.sk-parallel-item::after {content: \"\";width: 100%;border-bottom: 1px solid gray;flex-grow: 1;}#sk-container-id-3 div.sk-label:hover label.sk-toggleable__label {background-color: #d4ebff;}#sk-container-id-3 div.sk-serial::before {content: \"\";position: absolute;border-left: 1px solid gray;box-sizing: border-box;top: 0;bottom: 0;left: 50%;z-index: 0;}#sk-container-id-3 div.sk-serial {display: flex;flex-direction: column;align-items: center;background-color: white;padding-right: 0.2em;padding-left: 0.2em;position: relative;}#sk-container-id-3 div.sk-item {position: relative;z-index: 1;}#sk-container-id-3 div.sk-parallel {display: flex;align-items: stretch;justify-content: center;background-color: white;position: relative;}#sk-container-id-3 div.sk-item::before, #sk-container-id-3 div.sk-parallel-item::before {content: \"\";position: absolute;border-left: 1px solid gray;box-sizing: border-box;top: 0;bottom: 0;left: 50%;z-index: -1;}#sk-container-id-3 div.sk-parallel-item {display: flex;flex-direction: column;z-index: 1;position: relative;background-color: white;}#sk-container-id-3 div.sk-parallel-item:first-child::after {align-self: flex-end;width: 50%;}#sk-container-id-3 div.sk-parallel-item:last-child::after {align-self: flex-start;width: 50%;}#sk-container-id-3 div.sk-parallel-item:only-child::after {width: 0;}#sk-container-id-3 div.sk-dashed-wrapped {border: 1px dashed gray;margin: 0 0.4em 0.5em 0.4em;box-sizing: border-box;padding-bottom: 0.4em;background-color: white;}#sk-container-id-3 div.sk-label label {font-family: monospace;font-weight: bold;display: inline-block;line-height: 1.2em;}#sk-container-id-3 div.sk-label-container {text-align: center;}#sk-container-id-3 div.sk-container {/* jupyter's `normalize.less` sets `[hidden] { display: none; }` but bootstrap.min.css set `[hidden] { display: none !important; }` so we also need the `!important` here to be able to override the default hidden behavior on the sphinx rendered scikit-learn.org. See: https://github.com/scikit-learn/scikit-learn/issues/21755 */display: inline-block !important;position: relative;}#sk-container-id-3 div.sk-text-repr-fallback {display: none;}</style><div id=\"sk-container-id-3\" class=\"sk-top-container\"><div class=\"sk-text-repr-fallback\"><pre>MLPClassifier(activation=&#x27;tanh&#x27;, alpha=0.0015595796772974067, batch_size=32,\n",
       "              hidden_layer_sizes=(50,),\n",
       "              learning_rate_init=0.0020210666418758265, max_iter=500,\n",
       "              random_state=0)</pre><b>In a Jupyter environment, please rerun this cell to show the HTML representation or trust the notebook. <br />On GitHub, the HTML representation is unable to render, please try loading this page with nbviewer.org.</b></div><div class=\"sk-container\" hidden><div class=\"sk-item\"><div class=\"sk-estimator sk-toggleable\"><input class=\"sk-toggleable__control sk-hidden--visually\" id=\"sk-estimator-id-5\" type=\"checkbox\" checked><label for=\"sk-estimator-id-5\" class=\"sk-toggleable__label sk-toggleable__label-arrow\">MLPClassifier</label><div class=\"sk-toggleable__content\"><pre>MLPClassifier(activation=&#x27;tanh&#x27;, alpha=0.0015595796772974067, batch_size=32,\n",
       "              hidden_layer_sizes=(50,),\n",
       "              learning_rate_init=0.0020210666418758265, max_iter=500,\n",
       "              random_state=0)</pre></div></div></div></div></div>"
      ],
      "text/plain": [
       "MLPClassifier(activation='tanh', alpha=0.0015595796772974067, batch_size=32,\n",
       "              hidden_layer_sizes=(50,),\n",
       "              learning_rate_init=0.0020210666418758265, max_iter=500,\n",
       "              random_state=0)"
      ]
     },
     "execution_count": 23,
     "metadata": {},
     "output_type": "execute_result"
    }
   ],
   "source": [
    "# Fit models\n",
    "print(\"Training MLP 1...\")\n",
    "classifier1.fit(X_train, y_train)\n",
    "\n",
    "print(\"Training MLP 2...\")\n",
    "classifier2.fit(X_train, y_train)\n",
    "\n",
    "print(\"Training MLP 3...\")\n",
    "classifier3.fit(X_train, y_train)"
   ]
  },
  {
   "cell_type": "markdown",
   "id": "32094e5f",
   "metadata": {},
   "source": [
    "#### *- Obtaining predicted probabilities for the test set from each model.*"
   ]
  },
  {
   "cell_type": "code",
   "execution_count": 24,
   "id": "51ebd9fb",
   "metadata": {},
   "outputs": [],
   "source": [
    "# Get predictions\n",
    "lr_probs1 = classifier1.predict_proba(X_test)\n",
    "lr_probs2 = classifier2.predict_proba(X_test)\n",
    "lr_probs3 = classifier3.predict_proba(X_test)"
   ]
  },
  {
   "cell_type": "markdown",
   "id": "6b2914b3",
   "metadata": {},
   "source": [
    "#### *- Keeping probabilities for the positive class to compute ROC curves.*"
   ]
  },
  {
   "cell_type": "code",
   "execution_count": 25,
   "id": "69a6a332",
   "metadata": {},
   "outputs": [],
   "source": [
    "# Keep probabilities for positive class\n",
    "lr_probs1 = lr_probs1[:, 1]\n",
    "lr_probs2 = lr_probs2[:, 1]\n",
    "lr_probs3 = lr_probs3[:, 1]"
   ]
  },
  {
   "cell_type": "markdown",
   "id": "c5fa0df0",
   "metadata": {},
   "source": [
    "#### *- Generating ROC curve data for the baseline and each MLP model.*"
   ]
  },
  {
   "cell_type": "code",
   "execution_count": 26,
   "id": "d362d1fb",
   "metadata": {},
   "outputs": [],
   "source": [
    "# Generate baseline probabilities (random guessing)\n",
    "ns_probs = [0 for _ in range(len(y_test))]\n",
    "\n",
    "# Calculate ROC curves\n",
    "ns_fpr, ns_tpr, _ = roc_curve(y_test, ns_probs)\n",
    "lr_fpr1, lr_tpr1, _ = roc_curve(y_test, lr_probs1)\n",
    "lr_fpr2, lr_tpr2, _ = roc_curve(y_test, lr_probs2)\n",
    "lr_fpr3, lr_tpr3, _ = roc_curve(y_test, lr_probs3)"
   ]
  },
  {
   "cell_type": "markdown",
   "id": "dfc04f69",
   "metadata": {},
   "source": [
    "#### *- Computing the Area Under the Curve (AUC) for the baseline and each model.*"
   ]
  },
  {
   "cell_type": "code",
   "execution_count": 27,
   "id": "00027903",
   "metadata": {},
   "outputs": [],
   "source": [
    "# Calculate ROC AUC\n",
    "ns_auc = roc_auc_score(y_test, ns_probs)\n",
    "lr_auc1 = roc_auc_score(y_test, lr_probs1)\n",
    "lr_auc2 = roc_auc_score(y_test, lr_probs2)\n",
    "lr_auc3 = roc_auc_score(y_test, lr_probs3)"
   ]
  },
  {
   "cell_type": "markdown",
   "id": "f7ec9f36",
   "metadata": {},
   "source": [
    "#### *- Visualize and compare the ROC curves of all models.*"
   ]
  },
  {
   "cell_type": "code",
   "execution_count": 28,
   "id": "7b818332",
   "metadata": {},
   "outputs": [
    {
     "data": {
      "image/png": "[encoded data removed]",
      "text/plain": [
       "<Figure size 1000x800 with 1 Axes>"
      ]
     },
     "metadata": {},
     "output_type": "display_data"
    }
   ],
   "source": [
    "# Plot ROC curves\n",
    "plt.figure(figsize=(10, 8))\n",
    "plt.plot(ns_fpr, ns_tpr, linestyle='--', label='Baseline', color='gray')\n",
    "plt.plot(lr_fpr1, lr_tpr1, marker='.', label=f'MLP 1 (AUC={lr_auc1:.3f})', color='blue')\n",
    "plt.plot(lr_fpr2, lr_tpr2, marker='.', label=f'MLP 2 (AUC={lr_auc2:.3f})', color='green')\n",
    "plt.plot(lr_fpr3, lr_tpr3, marker='.', label=f'MLP 3 (AUC={lr_auc3:.3f})', color='red')\n",
    "\n",
    "plt.xlabel('False Positive Rate')\n",
    "plt.ylabel('True Positive Rate')\n",
    "plt.title('ROC Curve Comparison of MLP Models')\n",
    "plt.legend(loc='lower right')\n",
    "plt.grid(True, alpha=0.3)\n",
    "\n",
    "# Add diagonal reference line\n",
    "plt.plot([0, 1], [0, 1], color='gray', linestyle='--', alpha=0.5)\n",
    "plt.axis('square')\n",
    "plt.show()"
   ]
  },
  {
   "cell_type": "markdown",
   "id": "ab30fe63",
   "metadata": {},
   "source": [
    "#### *- Display detailed performance metrics for each model.*"
   ]
  },
  {
   "cell_type": "code",
   "execution_count": 29,
   "id": "402700e4",
   "metadata": {},
   "outputs": [
    {
     "name": "stdout",
     "output_type": "stream",
     "text": [
      "\n",
      "Classification Report for MLP 1:\n",
      "              precision    recall  f1-score   support\n",
      "\n",
      "           0       0.78      0.81      0.80     21862\n",
      "           1       0.80      0.78      0.79     21862\n",
      "\n",
      "    accuracy                           0.79     43724\n",
      "   macro avg       0.79      0.79      0.79     43724\n",
      "weighted avg       0.79      0.79      0.79     43724\n",
      "\n",
      "\n",
      "Classification Report for MLP 2:\n",
      "              precision    recall  f1-score   support\n",
      "\n",
      "           0       0.79      0.81      0.80     21862\n",
      "           1       0.80      0.79      0.79     21862\n",
      "\n",
      "    accuracy                           0.80     43724\n",
      "   macro avg       0.80      0.80      0.80     43724\n",
      "weighted avg       0.80      0.80      0.80     43724\n",
      "\n",
      "\n",
      "Classification Report for MLP 3:\n",
      "              precision    recall  f1-score   support\n",
      "\n",
      "           0       0.81      0.82      0.82     21862\n",
      "           1       0.82      0.81      0.81     21862\n",
      "\n",
      "    accuracy                           0.81     43724\n",
      "   macro avg       0.81      0.81      0.81     43724\n",
      "weighted avg       0.81      0.81      0.81     43724\n",
      "\n"
     ]
    }
   ],
   "source": [
    "# Print classification reports\n",
    "models = [\n",
    "    ('MLP 1', classifier1), \n",
    "    ('MLP 2', classifier2), \n",
    "    ('MLP 3', classifier3)\n",
    "]\n",
    "\n",
    "for name, model in models:\n",
    "    predictions = model.predict(X_test)\n",
    "    print(f'\\nClassification Report for {name}:')\n",
    "    print(classification_report(y_test, predictions))"
   ]
  },
  {
   "cell_type": "markdown",
   "id": "5291f44b",
   "metadata": {},
   "source": [
    "#### *- Plotting Confusion Matrices*"
   ]
  },
  {
   "cell_type": "code",
   "execution_count": 30,
   "id": "d3cedc0a-728d-4eb6-80f6-1f59688d1395",
   "metadata": {},
   "outputs": [
    {
     "data": {
      "image/png": "[encoded data removed]",
      "text/plain": [
       "<Figure size 1500x500 with 6 Axes>"
      ]
     },
     "metadata": {},
     "output_type": "display_data"
    },
    {
     "name": "stdout",
     "output_type": "stream",
     "text": [
      "\n",
      "Detailed Performance Metrics:\n",
      "\n",
      "Metrics Summary:\n",
      "Model  Accuracy Precision    Recall  F1-Score   ROC-AUC\n",
      "MLP 1  0.792791  0.801564  0.778245  0.789733  0.880212\n",
      "MLP 2  0.796976  0.802836  0.787302  0.794993  0.883608\n",
      "MLP 3  0.813832  0.819324  0.805233  0.812217  0.899992\n"
     ]
    }
   ],
   "source": [
    "# Plot Confusion Matrices\n",
    "plt.figure(figsize=(15, 5))\n",
    "for i, (name, model) in enumerate(models):\n",
    "    plt.subplot(1, 3, i+1)\n",
    "    y_pred = model.predict(X_test)\n",
    "    cm = confusion_matrix(y_test, y_pred)\n",
    "    sns.heatmap(cm, annot=True, fmt='d', cmap='Blues')\n",
    "    plt.title(f'Confusion Matrix - {name}')\n",
    "    plt.xlabel('Predicted')\n",
    "    plt.ylabel('Actual')\n",
    "\n",
    "plt.tight_layout()\n",
    "plt.show()\n",
    "\n",
    "# Print detailed metrics\n",
    "print(\"\\nDetailed Performance Metrics:\")\n",
    "metrics_df = pd.DataFrame(columns=['Model', 'Accuracy', 'Precision', 'Recall', 'F1-Score', 'ROC-AUC'])\n",
    "\n",
    "for name, model in models:\n",
    "    y_pred = model.predict(X_test)\n",
    "    y_pred_proba = model.predict_proba(X_test)[:, 1]\n",
    "    \n",
    "    metrics_dict = {\n",
    "        'Model': name,\n",
    "        'Accuracy': accuracy_score(y_test, y_pred),\n",
    "        'Precision': precision_score(y_test, y_pred),\n",
    "        'Recall': recall_score(y_test, y_pred),\n",
    "        'F1-Score': f1_score(y_test, y_pred),\n",
    "        'ROC-AUC': roc_auc_score(y_test, y_pred_proba)\n",
    "    }\n",
    "    metrics_df = metrics_df.append(metrics_dict, ignore_index=True)\n",
    "\n",
    "print(\"\\nMetrics Summary:\")\n",
    "print(metrics_df.round(3).to_string(index=False))"
   ]
  },
  {
   "cell_type": "markdown",
   "id": "484da0ba-dce7-45d4-b2ca-abbcf3592888",
   "metadata": {},
   "source": [
    "Looking at the results, all three MLP models performed similarly well, with MLP 3 showing a slight edge in performance. The ROC curves indicate strong predictive power with AUC scores of 0.859, 0.862, and 0.872 for MLP 1, 2, and 3 respectively. MLP 3, with its optimized parameters, achieved the highest overall metrics with consistent precision and recall of 0.79 across both classes, compared to 0.77-0.78 for the other models. This suggests that the hyperparameter tuning successfully improved the model's performance"
   ]
  }
 ],
 "metadata": {
  "kernelspec": {
   "display_name": "Python 3 (ipykernel)",
   "language": "python",
   "name": "python3"
  },
  "language_info": {
   "codemirror_mode": {
    "name": "ipython",
    "version": 3
   },
   "file_extension": ".py",
   "mimetype": "text/x-python",
   "name": "python",
   "nbconvert_exporter": "python",
   "pygments_lexer": "ipython3",
   "version": "3.11.7"
  }
 },
 "nbformat": 4,
 "nbformat_minor": 5
}
